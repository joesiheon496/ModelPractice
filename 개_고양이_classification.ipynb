{
  "nbformat": 4,
  "nbformat_minor": 0,
  "metadata": {
    "colab": {
      "provenance": [],
      "mount_file_id": "1VAvzDm5AqftpNdPX4bBcJweT1S9rtspP",
      "authorship_tag": "ABX9TyP4CDFNdLlcsL5iwG6h2hVl",
      "include_colab_link": true
    },
    "kernelspec": {
      "name": "python3",
      "display_name": "Python 3"
    },
    "language_info": {
      "name": "python"
    }
  },
  "cells": [
    {
      "cell_type": "markdown",
      "metadata": {
        "id": "view-in-github",
        "colab_type": "text"
      },
      "source": [
        "<a href=\"https://colab.research.google.com/github/joesiheon496/ModelPractice/blob/master/%EA%B0%9C_%EA%B3%A0%EC%96%91%EC%9D%B4_classification.ipynb\" target=\"_parent\"><img src=\"https://colab.research.google.com/assets/colab-badge.svg\" alt=\"Open In Colab\"/></a>"
      ]
    },
    {
      "cell_type": "code",
      "execution_count": 1,
      "metadata": {
        "id": "3cMloOD2HUFp"
      },
      "outputs": [],
      "source": [
        "import tensorflow as tf\n",
        "from keras.preprocessing.image import ImageDataGenerator"
      ]
    },
    {
      "cell_type": "code",
      "source": [
        "train_gener = ImageDataGenerator(\n",
        "    rescale = 1./255,\n",
        "    shear_range=0.2,\n",
        "    zoom_range=0.2,\n",
        "    horizontal_flip=True\n",
        ")\n",
        "train_set = train_gener.flow_from_directory(\n",
        "    '/content/drive/MyDrive/2023/UDEMYPRECTICE/DEEPLEARNING/Part 2 - Convolutional Neural Networks/dataset/training_set',\n",
        "    target_size = (64,64),\n",
        "    batch_size = 32,\n",
        "    class_mode='binary'\n",
        ")\n",
        "\n",
        "test_gener = ImageDataGenerator(\n",
        "    rescale = 1./255\n",
        ")\n",
        "\n",
        "test_set = test_gener.flow_from_directory(\n",
        "    '/content/drive/MyDrive/2023/UDEMYPRECTICE/DEEPLEARNING/Part 2 - Convolutional Neural Networks/dataset/test_set',\n",
        "    target_size = (64,64),\n",
        "    batch_size = 32,\n",
        "    class_mode = 'binary'\n",
        ")"
      ],
      "metadata": {
        "colab": {
          "base_uri": "https://localhost:8080/"
        },
        "id": "iRFOCm6nHpjv",
        "outputId": "655dffa0-faa9-47f3-f9a0-9c63559b512a"
      },
      "execution_count": 3,
      "outputs": [
        {
          "output_type": "stream",
          "name": "stdout",
          "text": [
            "Found 8000 images belonging to 2 classes.\n",
            "Found 2000 images belonging to 2 classes.\n"
          ]
        }
      ]
    },
    {
      "cell_type": "code",
      "source": [
        "cnn = tf.keras.models.Sequential()\n",
        "cnn.add(tf.keras.layers.Conv2D(filters=32,kernel_size = 3, activation='relu',input_shape=[64,64,3]))\n",
        "cnn.add(tf.keras.layers.MaxPool2D(pool_size=2, strides=2))\n",
        "cnn.add(tf.keras.layers.Conv2D(filters=32,kernel_size = 3, activation='relu'))\n",
        "cnn.add(tf.keras.layers.MaxPool2D(pool_size=2, strides=2))\n",
        "cnn.add(tf.keras.layers.Flatten())\n",
        "cnn.add(tf.keras.layers.Dense(units=128, activation='relu'))\n",
        "cnn.add(tf.keras.layers.Dense(units=1,activation='sigmoid'))"
      ],
      "metadata": {
        "id": "dTP4k7qdIaN4"
      },
      "execution_count": 4,
      "outputs": []
    },
    {
      "cell_type": "code",
      "source": [
        "cnn.compile(optimizer='adam',loss='binary_crossentropy',metrics=['accuracy'])"
      ],
      "metadata": {
        "id": "6scrKwqdJHgk"
      },
      "execution_count": 5,
      "outputs": []
    },
    {
      "cell_type": "code",
      "source": [
        "cnn.fit(x=train_set,validation_data = test_set, epochs=25)"
      ],
      "metadata": {
        "colab": {
          "base_uri": "https://localhost:8080/"
        },
        "id": "_KcEqm6WJOAR",
        "outputId": "38c2fffd-8238-4195-d6f3-e31dca9a4e0f"
      },
      "execution_count": 7,
      "outputs": [
        {
          "output_type": "stream",
          "name": "stdout",
          "text": [
            "Epoch 1/25\n",
            "250/250 [==============================] - 2190s 9s/step - loss: 0.6818 - accuracy: 0.5584 - val_loss: 0.6194 - val_accuracy: 0.6465\n",
            "Epoch 2/25\n",
            "250/250 [==============================] - 63s 254ms/step - loss: 0.6301 - accuracy: 0.6442 - val_loss: 0.5914 - val_accuracy: 0.6910\n",
            "Epoch 3/25\n",
            "250/250 [==============================] - 63s 250ms/step - loss: 0.5927 - accuracy: 0.6820 - val_loss: 0.5624 - val_accuracy: 0.7180\n",
            "Epoch 4/25\n",
            "250/250 [==============================] - 63s 250ms/step - loss: 0.5561 - accuracy: 0.7115 - val_loss: 0.5528 - val_accuracy: 0.7230\n",
            "Epoch 5/25\n",
            "250/250 [==============================] - 62s 246ms/step - loss: 0.5267 - accuracy: 0.7421 - val_loss: 0.5169 - val_accuracy: 0.7580\n",
            "Epoch 6/25\n",
            "250/250 [==============================] - 66s 263ms/step - loss: 0.5092 - accuracy: 0.7440 - val_loss: 0.5161 - val_accuracy: 0.7410\n",
            "Epoch 7/25\n",
            "250/250 [==============================] - 62s 248ms/step - loss: 0.4842 - accuracy: 0.7613 - val_loss: 0.5071 - val_accuracy: 0.7635\n",
            "Epoch 8/25\n",
            "250/250 [==============================] - 64s 256ms/step - loss: 0.4665 - accuracy: 0.7745 - val_loss: 0.5071 - val_accuracy: 0.7575\n",
            "Epoch 9/25\n",
            "250/250 [==============================] - 63s 252ms/step - loss: 0.4535 - accuracy: 0.7878 - val_loss: 0.5006 - val_accuracy: 0.7715\n",
            "Epoch 10/25\n",
            "250/250 [==============================] - 64s 256ms/step - loss: 0.4302 - accuracy: 0.7936 - val_loss: 0.5281 - val_accuracy: 0.7560\n",
            "Epoch 11/25\n",
            "250/250 [==============================] - 63s 253ms/step - loss: 0.4155 - accuracy: 0.8092 - val_loss: 0.5066 - val_accuracy: 0.7740\n",
            "Epoch 12/25\n",
            "250/250 [==============================] - 63s 252ms/step - loss: 0.4030 - accuracy: 0.8171 - val_loss: 0.4578 - val_accuracy: 0.7875\n",
            "Epoch 13/25\n",
            "250/250 [==============================] - 64s 254ms/step - loss: 0.3882 - accuracy: 0.8234 - val_loss: 0.4624 - val_accuracy: 0.8000\n",
            "Epoch 14/25\n",
            "250/250 [==============================] - 62s 247ms/step - loss: 0.3729 - accuracy: 0.8329 - val_loss: 0.4867 - val_accuracy: 0.7835\n",
            "Epoch 15/25\n",
            "250/250 [==============================] - 68s 273ms/step - loss: 0.3548 - accuracy: 0.8439 - val_loss: 0.5744 - val_accuracy: 0.7540\n",
            "Epoch 16/25\n",
            "250/250 [==============================] - 66s 262ms/step - loss: 0.3381 - accuracy: 0.8540 - val_loss: 0.4975 - val_accuracy: 0.7870\n",
            "Epoch 17/25\n",
            "250/250 [==============================] - 68s 274ms/step - loss: 0.3153 - accuracy: 0.8615 - val_loss: 0.5963 - val_accuracy: 0.7685\n",
            "Epoch 18/25\n",
            "250/250 [==============================] - 68s 273ms/step - loss: 0.3085 - accuracy: 0.8645 - val_loss: 0.5441 - val_accuracy: 0.7730\n",
            "Epoch 19/25\n",
            "250/250 [==============================] - 70s 278ms/step - loss: 0.2958 - accuracy: 0.8752 - val_loss: 0.5129 - val_accuracy: 0.7875\n",
            "Epoch 20/25\n",
            "250/250 [==============================] - 64s 254ms/step - loss: 0.2689 - accuracy: 0.8891 - val_loss: 0.4907 - val_accuracy: 0.8025\n",
            "Epoch 21/25\n",
            "250/250 [==============================] - 67s 270ms/step - loss: 0.2535 - accuracy: 0.8915 - val_loss: 0.5419 - val_accuracy: 0.7920\n",
            "Epoch 22/25\n",
            "250/250 [==============================] - 68s 272ms/step - loss: 0.2526 - accuracy: 0.8976 - val_loss: 0.5414 - val_accuracy: 0.7855\n",
            "Epoch 23/25\n",
            "250/250 [==============================] - 64s 255ms/step - loss: 0.2300 - accuracy: 0.9074 - val_loss: 0.5468 - val_accuracy: 0.7950\n",
            "Epoch 24/25\n",
            "250/250 [==============================] - 62s 246ms/step - loss: 0.2232 - accuracy: 0.9093 - val_loss: 0.5514 - val_accuracy: 0.7805\n",
            "Epoch 25/25\n",
            "250/250 [==============================] - 65s 258ms/step - loss: 0.2130 - accuracy: 0.9149 - val_loss: 0.5447 - val_accuracy: 0.7980\n"
          ]
        },
        {
          "output_type": "execute_result",
          "data": {
            "text/plain": [
              "<keras.callbacks.History at 0x7b444c1e17e0>"
            ]
          },
          "metadata": {},
          "execution_count": 7
        }
      ]
    },
    {
      "cell_type": "code",
      "source": [
        "import numpy as np\n",
        "from keras.preprocessing import image\n",
        "from tensorflow.keras.utils import load_img\n",
        "from tensorflow.keras.utils import img_to_array\n",
        "test_image = load_img('/content/drive/MyDrive/2023/UDEMYPRECTICE/DEEPLEARNING/Part 2 - Convolutional Neural Networks/dataset/single_prediction/KakaoTalk_Photo_2023-08-28-09-45-32.jpeg', target_size=(64,64))\n",
        "test_image = img_to_array(test_image)\n",
        "test_image = np.expand_dims(test_image, axis=0)\n",
        "result = cnn.predict(test_image/255.0)\n",
        "train_set.class_indices\n",
        "if result[0][0] > 0.5:\n",
        "    prediction = 'dog'\n",
        "else:\n",
        "    prediction = 'cat'"
      ],
      "metadata": {
        "colab": {
          "base_uri": "https://localhost:8080/"
        },
        "id": "VGZFXw89JUKl",
        "outputId": "a6078ec1-b92b-45e1-f2d0-1101aaa0d7c4"
      },
      "execution_count": 13,
      "outputs": [
        {
          "output_type": "stream",
          "name": "stdout",
          "text": [
            "1/1 [==============================] - 0s 21ms/step\n"
          ]
        }
      ]
    },
    {
      "cell_type": "code",
      "source": [
        "print(prediction)"
      ],
      "metadata": {
        "colab": {
          "base_uri": "https://localhost:8080/"
        },
        "id": "9KMoIA1pJ4CT",
        "outputId": "397cd5e3-a378-4c37-e53a-94616a579ab0"
      },
      "execution_count": 14,
      "outputs": [
        {
          "output_type": "stream",
          "name": "stdout",
          "text": [
            "cat\n"
          ]
        }
      ]
    },
    {
      "cell_type": "code",
      "source": [],
      "metadata": {
        "id": "KHfAk39SJ5CJ"
      },
      "execution_count": null,
      "outputs": []
    }
  ]
}