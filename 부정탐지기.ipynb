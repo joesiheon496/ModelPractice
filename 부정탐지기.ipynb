{
  "nbformat": 4,
  "nbformat_minor": 0,
  "metadata": {
    "colab": {
      "provenance": [],
      "mount_file_id": "1gDZ6AEhYMEGYxTyzd2909alkOO8Is1lf",
      "authorship_tag": "ABX9TyPitnlpQD+qVKKpB5B9WeMh",
      "include_colab_link": true
    },
    "kernelspec": {
      "name": "python3",
      "display_name": "Python 3"
    },
    "language_info": {
      "name": "python"
    }
  },
  "cells": [
    {
      "cell_type": "markdown",
      "metadata": {
        "id": "view-in-github",
        "colab_type": "text"
      },
      "source": [
        "<a href=\"https://colab.research.google.com/github/joesiheon496/ModelPractice/blob/master/%EB%B6%80%EC%A0%95%ED%83%90%EC%A7%80%EA%B8%B0.ipynb\" target=\"_parent\"><img src=\"https://colab.research.google.com/assets/colab-badge.svg\" alt=\"Open In Colab\"/></a>"
      ]
    },
    {
      "cell_type": "code",
      "execution_count": 1,
      "metadata": {
        "id": "XjHXvHhKFKoH"
      },
      "outputs": [],
      "source": [
        "import numpy as np\n",
        "import matplotlib.pyplot as plt\n",
        "import pandas as pd"
      ]
    },
    {
      "cell_type": "code",
      "source": [
        "dataset = pd.read_csv('/content/drive/MyDrive/2023/UDEMYPRECTICE/DEEPLEARNING/Part 4 - Self_Organizing_Maps/Credit_Card_Applications.csv')"
      ],
      "metadata": {
        "id": "LwvjpHXHFPJe"
      },
      "execution_count": 2,
      "outputs": []
    },
    {
      "cell_type": "code",
      "source": [
        "dataset"
      ],
      "metadata": {
        "id": "PY7q9SeOPZ0x",
        "outputId": "6e116750-98df-485b-9f75-0d077c3acb50",
        "colab": {
          "base_uri": "https://localhost:8080/",
          "height": 423
        }
      },
      "execution_count": 3,
      "outputs": [
        {
          "output_type": "execute_result",
          "data": {
            "text/plain": [
              "     CustomerID  A1     A2      A3  A4  A5  A6     A7  A8  A9  A10  A11  A12  \\\n",
              "0      15776156   1  22.08  11.460   2   4   4  1.585   0   0    0    1    2   \n",
              "1      15739548   0  22.67   7.000   2   8   4  0.165   0   0    0    0    2   \n",
              "2      15662854   0  29.58   1.750   1   4   4  1.250   0   0    0    1    2   \n",
              "3      15687688   0  21.67  11.500   1   5   3  0.000   1   1   11    1    2   \n",
              "4      15715750   1  20.17   8.170   2   6   4  1.960   1   1   14    0    2   \n",
              "..          ...  ..    ...     ...  ..  ..  ..    ...  ..  ..  ...  ...  ...   \n",
              "685    15808223   1  31.57  10.500   2  14   4  6.500   1   0    0    0    2   \n",
              "686    15769980   1  20.67   0.415   2   8   4  0.125   0   0    0    0    2   \n",
              "687    15675450   0  18.83   9.540   2   6   4  0.085   1   0    0    0    2   \n",
              "688    15776494   0  27.42  14.500   2  14   8  3.085   1   1    1    0    2   \n",
              "689    15592412   1  41.00   0.040   2  10   4  0.040   0   1    1    0    1   \n",
              "\n",
              "     A13   A14  Class  \n",
              "0    100  1213      0  \n",
              "1    160     1      0  \n",
              "2    280     1      0  \n",
              "3      0     1      1  \n",
              "4     60   159      1  \n",
              "..   ...   ...    ...  \n",
              "685    0     1      1  \n",
              "686    0    45      0  \n",
              "687  100     1      1  \n",
              "688  120    12      1  \n",
              "689  560     1      1  \n",
              "\n",
              "[690 rows x 16 columns]"
            ],
            "text/html": [
              "\n",
              "  <div id=\"df-52520f2f-7798-40fe-ad9b-cd86b5780208\" class=\"colab-df-container\">\n",
              "    <div>\n",
              "<style scoped>\n",
              "    .dataframe tbody tr th:only-of-type {\n",
              "        vertical-align: middle;\n",
              "    }\n",
              "\n",
              "    .dataframe tbody tr th {\n",
              "        vertical-align: top;\n",
              "    }\n",
              "\n",
              "    .dataframe thead th {\n",
              "        text-align: right;\n",
              "    }\n",
              "</style>\n",
              "<table border=\"1\" class=\"dataframe\">\n",
              "  <thead>\n",
              "    <tr style=\"text-align: right;\">\n",
              "      <th></th>\n",
              "      <th>CustomerID</th>\n",
              "      <th>A1</th>\n",
              "      <th>A2</th>\n",
              "      <th>A3</th>\n",
              "      <th>A4</th>\n",
              "      <th>A5</th>\n",
              "      <th>A6</th>\n",
              "      <th>A7</th>\n",
              "      <th>A8</th>\n",
              "      <th>A9</th>\n",
              "      <th>A10</th>\n",
              "      <th>A11</th>\n",
              "      <th>A12</th>\n",
              "      <th>A13</th>\n",
              "      <th>A14</th>\n",
              "      <th>Class</th>\n",
              "    </tr>\n",
              "  </thead>\n",
              "  <tbody>\n",
              "    <tr>\n",
              "      <th>0</th>\n",
              "      <td>15776156</td>\n",
              "      <td>1</td>\n",
              "      <td>22.08</td>\n",
              "      <td>11.460</td>\n",
              "      <td>2</td>\n",
              "      <td>4</td>\n",
              "      <td>4</td>\n",
              "      <td>1.585</td>\n",
              "      <td>0</td>\n",
              "      <td>0</td>\n",
              "      <td>0</td>\n",
              "      <td>1</td>\n",
              "      <td>2</td>\n",
              "      <td>100</td>\n",
              "      <td>1213</td>\n",
              "      <td>0</td>\n",
              "    </tr>\n",
              "    <tr>\n",
              "      <th>1</th>\n",
              "      <td>15739548</td>\n",
              "      <td>0</td>\n",
              "      <td>22.67</td>\n",
              "      <td>7.000</td>\n",
              "      <td>2</td>\n",
              "      <td>8</td>\n",
              "      <td>4</td>\n",
              "      <td>0.165</td>\n",
              "      <td>0</td>\n",
              "      <td>0</td>\n",
              "      <td>0</td>\n",
              "      <td>0</td>\n",
              "      <td>2</td>\n",
              "      <td>160</td>\n",
              "      <td>1</td>\n",
              "      <td>0</td>\n",
              "    </tr>\n",
              "    <tr>\n",
              "      <th>2</th>\n",
              "      <td>15662854</td>\n",
              "      <td>0</td>\n",
              "      <td>29.58</td>\n",
              "      <td>1.750</td>\n",
              "      <td>1</td>\n",
              "      <td>4</td>\n",
              "      <td>4</td>\n",
              "      <td>1.250</td>\n",
              "      <td>0</td>\n",
              "      <td>0</td>\n",
              "      <td>0</td>\n",
              "      <td>1</td>\n",
              "      <td>2</td>\n",
              "      <td>280</td>\n",
              "      <td>1</td>\n",
              "      <td>0</td>\n",
              "    </tr>\n",
              "    <tr>\n",
              "      <th>3</th>\n",
              "      <td>15687688</td>\n",
              "      <td>0</td>\n",
              "      <td>21.67</td>\n",
              "      <td>11.500</td>\n",
              "      <td>1</td>\n",
              "      <td>5</td>\n",
              "      <td>3</td>\n",
              "      <td>0.000</td>\n",
              "      <td>1</td>\n",
              "      <td>1</td>\n",
              "      <td>11</td>\n",
              "      <td>1</td>\n",
              "      <td>2</td>\n",
              "      <td>0</td>\n",
              "      <td>1</td>\n",
              "      <td>1</td>\n",
              "    </tr>\n",
              "    <tr>\n",
              "      <th>4</th>\n",
              "      <td>15715750</td>\n",
              "      <td>1</td>\n",
              "      <td>20.17</td>\n",
              "      <td>8.170</td>\n",
              "      <td>2</td>\n",
              "      <td>6</td>\n",
              "      <td>4</td>\n",
              "      <td>1.960</td>\n",
              "      <td>1</td>\n",
              "      <td>1</td>\n",
              "      <td>14</td>\n",
              "      <td>0</td>\n",
              "      <td>2</td>\n",
              "      <td>60</td>\n",
              "      <td>159</td>\n",
              "      <td>1</td>\n",
              "    </tr>\n",
              "    <tr>\n",
              "      <th>...</th>\n",
              "      <td>...</td>\n",
              "      <td>...</td>\n",
              "      <td>...</td>\n",
              "      <td>...</td>\n",
              "      <td>...</td>\n",
              "      <td>...</td>\n",
              "      <td>...</td>\n",
              "      <td>...</td>\n",
              "      <td>...</td>\n",
              "      <td>...</td>\n",
              "      <td>...</td>\n",
              "      <td>...</td>\n",
              "      <td>...</td>\n",
              "      <td>...</td>\n",
              "      <td>...</td>\n",
              "      <td>...</td>\n",
              "    </tr>\n",
              "    <tr>\n",
              "      <th>685</th>\n",
              "      <td>15808223</td>\n",
              "      <td>1</td>\n",
              "      <td>31.57</td>\n",
              "      <td>10.500</td>\n",
              "      <td>2</td>\n",
              "      <td>14</td>\n",
              "      <td>4</td>\n",
              "      <td>6.500</td>\n",
              "      <td>1</td>\n",
              "      <td>0</td>\n",
              "      <td>0</td>\n",
              "      <td>0</td>\n",
              "      <td>2</td>\n",
              "      <td>0</td>\n",
              "      <td>1</td>\n",
              "      <td>1</td>\n",
              "    </tr>\n",
              "    <tr>\n",
              "      <th>686</th>\n",
              "      <td>15769980</td>\n",
              "      <td>1</td>\n",
              "      <td>20.67</td>\n",
              "      <td>0.415</td>\n",
              "      <td>2</td>\n",
              "      <td>8</td>\n",
              "      <td>4</td>\n",
              "      <td>0.125</td>\n",
              "      <td>0</td>\n",
              "      <td>0</td>\n",
              "      <td>0</td>\n",
              "      <td>0</td>\n",
              "      <td>2</td>\n",
              "      <td>0</td>\n",
              "      <td>45</td>\n",
              "      <td>0</td>\n",
              "    </tr>\n",
              "    <tr>\n",
              "      <th>687</th>\n",
              "      <td>15675450</td>\n",
              "      <td>0</td>\n",
              "      <td>18.83</td>\n",
              "      <td>9.540</td>\n",
              "      <td>2</td>\n",
              "      <td>6</td>\n",
              "      <td>4</td>\n",
              "      <td>0.085</td>\n",
              "      <td>1</td>\n",
              "      <td>0</td>\n",
              "      <td>0</td>\n",
              "      <td>0</td>\n",
              "      <td>2</td>\n",
              "      <td>100</td>\n",
              "      <td>1</td>\n",
              "      <td>1</td>\n",
              "    </tr>\n",
              "    <tr>\n",
              "      <th>688</th>\n",
              "      <td>15776494</td>\n",
              "      <td>0</td>\n",
              "      <td>27.42</td>\n",
              "      <td>14.500</td>\n",
              "      <td>2</td>\n",
              "      <td>14</td>\n",
              "      <td>8</td>\n",
              "      <td>3.085</td>\n",
              "      <td>1</td>\n",
              "      <td>1</td>\n",
              "      <td>1</td>\n",
              "      <td>0</td>\n",
              "      <td>2</td>\n",
              "      <td>120</td>\n",
              "      <td>12</td>\n",
              "      <td>1</td>\n",
              "    </tr>\n",
              "    <tr>\n",
              "      <th>689</th>\n",
              "      <td>15592412</td>\n",
              "      <td>1</td>\n",
              "      <td>41.00</td>\n",
              "      <td>0.040</td>\n",
              "      <td>2</td>\n",
              "      <td>10</td>\n",
              "      <td>4</td>\n",
              "      <td>0.040</td>\n",
              "      <td>0</td>\n",
              "      <td>1</td>\n",
              "      <td>1</td>\n",
              "      <td>0</td>\n",
              "      <td>1</td>\n",
              "      <td>560</td>\n",
              "      <td>1</td>\n",
              "      <td>1</td>\n",
              "    </tr>\n",
              "  </tbody>\n",
              "</table>\n",
              "<p>690 rows × 16 columns</p>\n",
              "</div>\n",
              "    <div class=\"colab-df-buttons\">\n",
              "\n",
              "  <div class=\"colab-df-container\">\n",
              "    <button class=\"colab-df-convert\" onclick=\"convertToInteractive('df-52520f2f-7798-40fe-ad9b-cd86b5780208')\"\n",
              "            title=\"Convert this dataframe to an interactive table.\"\n",
              "            style=\"display:none;\">\n",
              "\n",
              "  <svg xmlns=\"http://www.w3.org/2000/svg\" height=\"24px\" viewBox=\"0 -960 960 960\">\n",
              "    <path d=\"M120-120v-720h720v720H120Zm60-500h600v-160H180v160Zm220 220h160v-160H400v160Zm0 220h160v-160H400v160ZM180-400h160v-160H180v160Zm440 0h160v-160H620v160ZM180-180h160v-160H180v160Zm440 0h160v-160H620v160Z\"/>\n",
              "  </svg>\n",
              "    </button>\n",
              "\n",
              "  <style>\n",
              "    .colab-df-container {\n",
              "      display:flex;\n",
              "      gap: 12px;\n",
              "    }\n",
              "\n",
              "    .colab-df-convert {\n",
              "      background-color: #E8F0FE;\n",
              "      border: none;\n",
              "      border-radius: 50%;\n",
              "      cursor: pointer;\n",
              "      display: none;\n",
              "      fill: #1967D2;\n",
              "      height: 32px;\n",
              "      padding: 0 0 0 0;\n",
              "      width: 32px;\n",
              "    }\n",
              "\n",
              "    .colab-df-convert:hover {\n",
              "      background-color: #E2EBFA;\n",
              "      box-shadow: 0px 1px 2px rgba(60, 64, 67, 0.3), 0px 1px 3px 1px rgba(60, 64, 67, 0.15);\n",
              "      fill: #174EA6;\n",
              "    }\n",
              "\n",
              "    .colab-df-buttons div {\n",
              "      margin-bottom: 4px;\n",
              "    }\n",
              "\n",
              "    [theme=dark] .colab-df-convert {\n",
              "      background-color: #3B4455;\n",
              "      fill: #D2E3FC;\n",
              "    }\n",
              "\n",
              "    [theme=dark] .colab-df-convert:hover {\n",
              "      background-color: #434B5C;\n",
              "      box-shadow: 0px 1px 3px 1px rgba(0, 0, 0, 0.15);\n",
              "      filter: drop-shadow(0px 1px 2px rgba(0, 0, 0, 0.3));\n",
              "      fill: #FFFFFF;\n",
              "    }\n",
              "  </style>\n",
              "\n",
              "    <script>\n",
              "      const buttonEl =\n",
              "        document.querySelector('#df-52520f2f-7798-40fe-ad9b-cd86b5780208 button.colab-df-convert');\n",
              "      buttonEl.style.display =\n",
              "        google.colab.kernel.accessAllowed ? 'block' : 'none';\n",
              "\n",
              "      async function convertToInteractive(key) {\n",
              "        const element = document.querySelector('#df-52520f2f-7798-40fe-ad9b-cd86b5780208');\n",
              "        const dataTable =\n",
              "          await google.colab.kernel.invokeFunction('convertToInteractive',\n",
              "                                                    [key], {});\n",
              "        if (!dataTable) return;\n",
              "\n",
              "        const docLinkHtml = 'Like what you see? Visit the ' +\n",
              "          '<a target=\"_blank\" href=https://colab.research.google.com/notebooks/data_table.ipynb>data table notebook</a>'\n",
              "          + ' to learn more about interactive tables.';\n",
              "        element.innerHTML = '';\n",
              "        dataTable['output_type'] = 'display_data';\n",
              "        await google.colab.output.renderOutput(dataTable, element);\n",
              "        const docLink = document.createElement('div');\n",
              "        docLink.innerHTML = docLinkHtml;\n",
              "        element.appendChild(docLink);\n",
              "      }\n",
              "    </script>\n",
              "  </div>\n",
              "\n",
              "\n",
              "<div id=\"df-7cf16084-3173-49fd-85f3-131d0479333b\">\n",
              "  <button class=\"colab-df-quickchart\" onclick=\"quickchart('df-7cf16084-3173-49fd-85f3-131d0479333b')\"\n",
              "            title=\"Suggest charts.\"\n",
              "            style=\"display:none;\">\n",
              "\n",
              "<svg xmlns=\"http://www.w3.org/2000/svg\" height=\"24px\"viewBox=\"0 0 24 24\"\n",
              "     width=\"24px\">\n",
              "    <g>\n",
              "        <path d=\"M19 3H5c-1.1 0-2 .9-2 2v14c0 1.1.9 2 2 2h14c1.1 0 2-.9 2-2V5c0-1.1-.9-2-2-2zM9 17H7v-7h2v7zm4 0h-2V7h2v10zm4 0h-2v-4h2v4z\"/>\n",
              "    </g>\n",
              "</svg>\n",
              "  </button>\n",
              "\n",
              "<style>\n",
              "  .colab-df-quickchart {\n",
              "    background-color: #E8F0FE;\n",
              "    border: none;\n",
              "    border-radius: 50%;\n",
              "    cursor: pointer;\n",
              "    display: none;\n",
              "    fill: #1967D2;\n",
              "    height: 32px;\n",
              "    padding: 0 0 0 0;\n",
              "    width: 32px;\n",
              "  }\n",
              "\n",
              "  .colab-df-quickchart:hover {\n",
              "    background-color: #E2EBFA;\n",
              "    box-shadow: 0px 1px 2px rgba(60, 64, 67, 0.3), 0px 1px 3px 1px rgba(60, 64, 67, 0.15);\n",
              "    fill: #174EA6;\n",
              "  }\n",
              "\n",
              "  [theme=dark] .colab-df-quickchart {\n",
              "    background-color: #3B4455;\n",
              "    fill: #D2E3FC;\n",
              "  }\n",
              "\n",
              "  [theme=dark] .colab-df-quickchart:hover {\n",
              "    background-color: #434B5C;\n",
              "    box-shadow: 0px 1px 3px 1px rgba(0, 0, 0, 0.15);\n",
              "    filter: drop-shadow(0px 1px 2px rgba(0, 0, 0, 0.3));\n",
              "    fill: #FFFFFF;\n",
              "  }\n",
              "</style>\n",
              "\n",
              "  <script>\n",
              "    async function quickchart(key) {\n",
              "      const charts = await google.colab.kernel.invokeFunction(\n",
              "          'suggestCharts', [key], {});\n",
              "    }\n",
              "    (() => {\n",
              "      let quickchartButtonEl =\n",
              "        document.querySelector('#df-7cf16084-3173-49fd-85f3-131d0479333b button');\n",
              "      quickchartButtonEl.style.display =\n",
              "        google.colab.kernel.accessAllowed ? 'block' : 'none';\n",
              "    })();\n",
              "  </script>\n",
              "</div>\n",
              "    </div>\n",
              "  </div>\n"
            ]
          },
          "metadata": {},
          "execution_count": 3
        }
      ]
    },
    {
      "cell_type": "code",
      "source": [
        "X = dataset.iloc[:,:-1].values\n",
        "y = dataset.iloc[:,-1].values"
      ],
      "metadata": {
        "id": "O1b0IQWyPdpg"
      },
      "execution_count": 4,
      "outputs": []
    },
    {
      "cell_type": "code",
      "source": [
        "from sklearn.preprocessing import MinMaxScaler\n",
        "sc = MinMaxScaler(feature_range=(0,1))\n",
        "X = sc.fit_transform(X)"
      ],
      "metadata": {
        "id": "SWhjscu62wiM"
      },
      "execution_count": 6,
      "outputs": []
    },
    {
      "cell_type": "code",
      "source": [
        "X"
      ],
      "metadata": {
        "colab": {
          "base_uri": "https://localhost:8080/"
        },
        "id": "N99FrYf93DkF",
        "outputId": "776c7ef6-c830-4fda-c128-b2b8bea807b1"
      },
      "execution_count": 7,
      "outputs": [
        {
          "output_type": "execute_result",
          "data": {
            "text/plain": [
              "array([[8.42681467e-01, 1.00000000e+00, 1.25263158e-01, ...,\n",
              "        5.00000000e-01, 5.00000000e-02, 1.21200000e-02],\n",
              "       [6.96090562e-01, 0.00000000e+00, 1.34135338e-01, ...,\n",
              "        5.00000000e-01, 8.00000000e-02, 0.00000000e+00],\n",
              "       [3.88981656e-01, 0.00000000e+00, 2.38045113e-01, ...,\n",
              "        5.00000000e-01, 1.40000000e-01, 0.00000000e+00],\n",
              "       ...,\n",
              "       [4.39420332e-01, 0.00000000e+00, 7.63909774e-02, ...,\n",
              "        5.00000000e-01, 5.00000000e-02, 0.00000000e+00],\n",
              "       [8.44034934e-01, 0.00000000e+00, 2.05563910e-01, ...,\n",
              "        5.00000000e-01, 6.00000000e-02, 1.10000000e-04],\n",
              "       [1.06907888e-01, 1.00000000e+00, 4.09774436e-01, ...,\n",
              "        0.00000000e+00, 2.80000000e-01, 0.00000000e+00]])"
            ]
          },
          "metadata": {},
          "execution_count": 7
        }
      ]
    },
    {
      "cell_type": "code",
      "source": [
        "%cd /content/drive/MyDrive/2023/UDEMYPRECTICE/DEEPLEARNING/Part 4 - Self_Organizing_Maps"
      ],
      "metadata": {
        "colab": {
          "base_uri": "https://localhost:8080/"
        },
        "id": "A6_DueXV3r5l",
        "outputId": "93a433e7-67e1-4e9b-d6cf-18ee1d4254e3"
      },
      "execution_count": 9,
      "outputs": [
        {
          "output_type": "stream",
          "name": "stdout",
          "text": [
            "/content/drive/MyDrive/2023/UDEMYPRECTICE/DEEPLEARNING/Part 4 - Self_Organizing_Maps\n"
          ]
        }
      ]
    },
    {
      "cell_type": "code",
      "source": [
        "!pip install Minisom"
      ],
      "metadata": {
        "colab": {
          "base_uri": "https://localhost:8080/"
        },
        "id": "v448tYS24Ddq",
        "outputId": "e0269dd4-7e17-4791-ccb3-9b02d72b5b3c"
      },
      "execution_count": 11,
      "outputs": [
        {
          "output_type": "stream",
          "name": "stdout",
          "text": [
            "Collecting Minisom\n",
            "  Downloading MiniSom-2.3.1.tar.gz (10 kB)\n",
            "  Preparing metadata (setup.py) ... \u001b[?25l\u001b[?25hdone\n",
            "Building wheels for collected packages: Minisom\n",
            "  Building wheel for Minisom (setup.py) ... \u001b[?25l\u001b[?25hdone\n",
            "  Created wheel for Minisom: filename=MiniSom-2.3.1-py3-none-any.whl size=10588 sha256=41b4d1f364bc9718e214a5f7b3f66914d3db6f282218946b221b8b0e7729c678\n",
            "  Stored in directory: /root/.cache/pip/wheels/c7/92/d2/33bbda5f86fd8830510b16aa98c8dd420129b5cb24248fd6db\n",
            "Successfully built Minisom\n",
            "Installing collected packages: Minisom\n",
            "Successfully installed Minisom-2.3.1\n"
          ]
        }
      ]
    },
    {
      "cell_type": "code",
      "source": [
        "from minisom import MiniSom"
      ],
      "metadata": {
        "id": "HHSDHV7w3I2L"
      },
      "execution_count": 12,
      "outputs": []
    },
    {
      "cell_type": "code",
      "source": [
        "som = MiniSom(x = 10, y = 10, input_len=15, sigma = 1.0, learning_rate = 0.5)\n",
        "som.random_weights_init(X)\n",
        "som.train_random(data = X, num_iteration = 100,)\n",
        "\n",
        "from pylab import bone, pcolor, colorbar, plot, show\n",
        "bone()\n",
        "pcolor(som.distance_map().T)\n",
        "colorbar()\n",
        "markers = ['o','s']\n",
        "colors = ['r','g']\n",
        "for i,x in enumerate(X):\n",
        "    w = som.winner(x)\n",
        "    plot(w[0]+0.5,\n",
        "         w[1]+0.5,\n",
        "         markers[y[i]],\n",
        "         markeredgecolor = colors[y[i]],\n",
        "         markerfacecolor = 'None',\n",
        "         markersize = 10,\n",
        "         markeredgewidth = 2)\n",
        "show()"
      ],
      "metadata": {
        "colab": {
          "base_uri": "https://localhost:8080/",
          "height": 435
        },
        "id": "R-CsKkYX3fWT",
        "outputId": "07bf045e-0b7f-4b2c-9918-6cc116f721fe"
      },
      "execution_count": 14,
      "outputs": [
        {
          "output_type": "display_data",
          "data": {
            "text/plain": [
              "<Figure size 640x480 with 2 Axes>"
            ],
            "image/png": "[encoded data removed]"
          },
          "metadata": {}
        }
      ]
    },
    {
      "cell_type": "code",
      "source": [
        "mapping = som.win_map(X)"
      ],
      "metadata": {
        "id": "3zvRSk7Y8Gn8"
      },
      "execution_count": 15,
      "outputs": []
    },
    {
      "cell_type": "code",
      "source": [
        "mapping"
      ],
      "metadata": {
        "id": "n9NqZjZq8lQZ"
      },
      "execution_count": null,
      "outputs": []
    },
    {
      "cell_type": "code",
      "source": [
        "frauds = np.concatenate((mapping[(8,1)], mapping[(2,9)]),axis=0)"
      ],
      "metadata": {
        "id": "Smfo6ll38nMb"
      },
      "execution_count": 18,
      "outputs": []
    },
    {
      "cell_type": "code",
      "source": [
        "frauds = sc.inverse_transform(frauds)"
      ],
      "metadata": {
        "id": "VsOVJSb09YNP"
      },
      "execution_count": 20,
      "outputs": []
    },
    {
      "cell_type": "code",
      "source": [
        "frauds"
      ],
      "metadata": {
        "colab": {
          "base_uri": "https://localhost:8080/"
        },
        "id": "lul8QOir9gCy",
        "outputId": "8e93cdb4-1b65-4ee7-b57d-9c7a6994f1c4"
      },
      "execution_count": 21,
      "outputs": [
        {
          "output_type": "execute_result",
          "data": {
            "text/plain": [
              "array([[1.5683168e+07, 1.0000000e+00, 2.9580000e+01, 4.5000000e+00,\n",
              "        2.0000000e+00, 9.0000000e+00, 4.0000000e+00, 7.5000000e+00,\n",
              "        1.0000000e+00, 1.0000000e+00, 2.0000000e+00, 1.0000000e+00,\n",
              "        2.0000000e+00, 3.3000000e+02, 1.0000000e+00],\n",
              "       [1.5618410e+07, 1.0000000e+00, 2.3080000e+01, 2.5000000e+00,\n",
              "        2.0000000e+00, 8.0000000e+00, 4.0000000e+00, 1.0850000e+00,\n",
              "        1.0000000e+00, 1.0000000e+00, 1.1000000e+01, 1.0000000e+00,\n",
              "        2.0000000e+00, 6.0000000e+01, 2.1850000e+03],\n",
              "       [1.5617348e+07, 1.0000000e+00, 6.3330000e+01, 5.4000000e-01,\n",
              "        2.0000000e+00, 8.0000000e+00, 4.0000000e+00, 5.8500000e-01,\n",
              "        1.0000000e+00, 1.0000000e+00, 3.0000000e+00, 1.0000000e+00,\n",
              "        2.0000000e+00, 1.8000000e+02, 1.0000000e+00],\n",
              "       [1.5682860e+07, 1.0000000e+00, 2.7830000e+01, 1.5000000e+00,\n",
              "        2.0000000e+00, 9.0000000e+00, 4.0000000e+00, 2.0000000e+00,\n",
              "        1.0000000e+00, 1.0000000e+00, 1.1000000e+01, 1.0000000e+00,\n",
              "        2.0000000e+00, 4.3400000e+02, 3.6000000e+01],\n",
              "       [1.5764226e+07, 1.0000000e+00, 2.5750000e+01, 5.0000000e-01,\n",
              "        2.0000000e+00, 8.0000000e+00, 4.0000000e+00, 1.4600000e+00,\n",
              "        1.0000000e+00, 1.0000000e+00, 5.0000000e+00, 1.0000000e+00,\n",
              "        2.0000000e+00, 3.1200000e+02, 1.0000000e+00],\n",
              "       [1.5767231e+07, 1.0000000e+00, 2.4170000e+01, 8.7500000e-01,\n",
              "        2.0000000e+00, 1.1000000e+01, 4.0000000e+00, 4.6250000e+00,\n",
              "        1.0000000e+00, 1.0000000e+00, 2.0000000e+00, 1.0000000e+00,\n",
              "        2.0000000e+00, 5.2000000e+02, 2.0010000e+03],\n",
              "       [1.5690492e+07, 1.0000000e+00, 2.5330000e+01, 5.8000000e-01,\n",
              "        2.0000000e+00, 8.0000000e+00, 4.0000000e+00, 2.9000000e-01,\n",
              "        1.0000000e+00, 1.0000000e+00, 7.0000000e+00, 1.0000000e+00,\n",
              "        2.0000000e+00, 9.6000000e+01, 5.1250000e+03],\n",
              "       [1.5762716e+07, 1.0000000e+00, 3.4170000e+01, 1.5400000e+00,\n",
              "        2.0000000e+00, 1.3000000e+01, 4.0000000e+00, 1.5400000e+00,\n",
              "        1.0000000e+00, 1.0000000e+00, 1.0000000e+00, 1.0000000e+00,\n",
              "        2.0000000e+00, 5.2000000e+02, 5.0001000e+04],\n",
              "       [1.5706464e+07, 1.0000000e+00, 2.5080000e+01, 1.7100000e+00,\n",
              "        2.0000000e+00, 1.4000000e+01, 4.0000000e+00, 1.6650000e+00,\n",
              "        1.0000000e+00, 1.0000000e+00, 1.0000000e+00, 1.0000000e+00,\n",
              "        2.0000000e+00, 3.9500000e+02, 2.1000000e+01],\n",
              "       [1.5638871e+07, 1.0000000e+00, 2.8250000e+01, 8.7500000e-01,\n",
              "        2.0000000e+00, 7.0000000e+00, 4.0000000e+00, 9.6000000e-01,\n",
              "        1.0000000e+00, 1.0000000e+00, 3.0000000e+00, 1.0000000e+00,\n",
              "        2.0000000e+00, 3.9600000e+02, 1.0000000e+00],\n",
              "       [1.5607746e+07, 1.0000000e+00, 3.9080000e+01, 6.0000000e+00,\n",
              "        2.0000000e+00, 7.0000000e+00, 4.0000000e+00, 1.2900000e+00,\n",
              "        1.0000000e+00, 1.0000000e+00, 5.0000000e+00, 1.0000000e+00,\n",
              "        2.0000000e+00, 1.0800000e+02, 1.0980000e+03],\n",
              "       [1.5761047e+07, 1.0000000e+00, 2.7830000e+01, 1.5400000e+00,\n",
              "        2.0000000e+00, 9.0000000e+00, 4.0000000e+00, 3.7500000e+00,\n",
              "        1.0000000e+00, 1.0000000e+00, 5.0000000e+00, 1.0000000e+00,\n",
              "        2.0000000e+00, 1.0000000e+02, 4.0000000e+00],\n",
              "       [1.5687527e+07, 1.0000000e+00, 1.6080000e+01, 7.5000000e-01,\n",
              "        2.0000000e+00, 8.0000000e+00, 4.0000000e+00, 1.7500000e+00,\n",
              "        1.0000000e+00, 1.0000000e+00, 5.0000000e+00, 1.0000000e+00,\n",
              "        2.0000000e+00, 3.5200000e+02, 6.9100000e+02],\n",
              "       [1.5605276e+07, 1.0000000e+00, 1.9670000e+01, 3.7500000e-01,\n",
              "        2.0000000e+00, 1.1000000e+01, 4.0000000e+00, 2.0000000e+00,\n",
              "        1.0000000e+00, 1.0000000e+00, 2.0000000e+00, 1.0000000e+00,\n",
              "        2.0000000e+00, 8.0000000e+01, 1.0000000e+00],\n",
              "       [1.5721569e+07, 1.0000000e+00, 2.3250000e+01, 1.5000000e+00,\n",
              "        2.0000000e+00, 1.1000000e+01, 4.0000000e+00, 2.3750000e+00,\n",
              "        1.0000000e+00, 1.0000000e+00, 3.0000000e+00, 1.0000000e+00,\n",
              "        2.0000000e+00, 0.0000000e+00, 5.8300000e+02],\n",
              "       [1.5605341e+07, 1.0000000e+00, 4.7670000e+01, 2.5000000e+00,\n",
              "        2.0000000e+00, 7.0000000e+00, 5.0000000e+00, 2.5000000e+00,\n",
              "        1.0000000e+00, 1.0000000e+00, 1.2000000e+01, 1.0000000e+00,\n",
              "        2.0000000e+00, 4.1000000e+02, 2.5110000e+03],\n",
              "       [1.5649430e+07, 1.0000000e+00, 4.4000000e+01, 2.0000000e+00,\n",
              "        2.0000000e+00, 7.0000000e+00, 4.0000000e+00, 1.7500000e+00,\n",
              "        1.0000000e+00, 1.0000000e+00, 2.0000000e+00, 1.0000000e+00,\n",
              "        2.0000000e+00, 0.0000000e+00, 1.6000000e+01],\n",
              "       [1.5674750e+07, 1.0000000e+00, 3.1670000e+01, 8.3000000e-01,\n",
              "        2.0000000e+00, 1.4000000e+01, 4.0000000e+00, 1.3350000e+00,\n",
              "        1.0000000e+00, 1.0000000e+00, 8.0000000e+00, 1.0000000e+00,\n",
              "        2.0000000e+00, 3.0300000e+02, 3.2910000e+03],\n",
              "       [1.5583552e+07, 1.0000000e+00, 2.0500000e+01, 2.4150000e+00,\n",
              "        2.0000000e+00, 8.0000000e+00, 4.0000000e+00, 2.0000000e+00,\n",
              "        1.0000000e+00, 1.0000000e+00, 1.1000000e+01, 1.0000000e+00,\n",
              "        2.0000000e+00, 2.0000000e+02, 3.0010000e+03],\n",
              "       [1.5586183e+07, 1.0000000e+00, 1.7080000e+01, 2.5000000e-01,\n",
              "        2.0000000e+00, 1.1000000e+01, 4.0000000e+00, 3.3500000e-01,\n",
              "        0.0000000e+00, 1.0000000e+00, 4.0000000e+00, 0.0000000e+00,\n",
              "        2.0000000e+00, 1.6000000e+02, 9.0000000e+00],\n",
              "       [1.5607988e+07, 1.0000000e+00, 3.8420000e+01, 7.0500000e-01,\n",
              "        2.0000000e+00, 8.0000000e+00, 4.0000000e+00, 3.7500000e-01,\n",
              "        0.0000000e+00, 1.0000000e+00, 2.0000000e+00, 0.0000000e+00,\n",
              "        2.0000000e+00, 2.2500000e+02, 5.0100000e+02],\n",
              "       [1.5632010e+07, 1.0000000e+00, 3.5750000e+01, 2.4150000e+00,\n",
              "        2.0000000e+00, 9.0000000e+00, 4.0000000e+00, 1.2500000e-01,\n",
              "        0.0000000e+00, 1.0000000e+00, 2.0000000e+00, 0.0000000e+00,\n",
              "        2.0000000e+00, 2.2000000e+02, 2.0000000e+00],\n",
              "       [1.5627365e+07, 1.0000000e+00, 2.4420000e+01, 2.0000000e+00,\n",
              "        2.0000000e+00, 1.0000000e+01, 2.0000000e+00, 1.6500000e-01,\n",
              "        0.0000000e+00, 1.0000000e+00, 2.0000000e+00, 0.0000000e+00,\n",
              "        2.0000000e+00, 3.2000000e+02, 1.3010000e+03],\n",
              "       [1.5576680e+07, 1.0000000e+00, 2.4080000e+01, 8.7500000e-01,\n",
              "        2.0000000e+00, 7.0000000e+00, 4.0000000e+00, 8.5000000e-02,\n",
              "        0.0000000e+00, 1.0000000e+00, 4.0000000e+00, 0.0000000e+00,\n",
              "        2.0000000e+00, 2.5400000e+02, 1.9510000e+03],\n",
              "       [1.5620570e+07, 1.0000000e+00, 2.5420000e+01, 5.4000000e-01,\n",
              "        2.0000000e+00, 9.0000000e+00, 4.0000000e+00, 1.6500000e-01,\n",
              "        0.0000000e+00, 1.0000000e+00, 1.0000000e+00, 0.0000000e+00,\n",
              "        2.0000000e+00, 2.7200000e+02, 4.4500000e+02],\n",
              "       [1.5592412e+07, 1.0000000e+00, 4.1000000e+01, 4.0000000e-02,\n",
              "        2.0000000e+00, 1.0000000e+01, 4.0000000e+00, 4.0000000e-02,\n",
              "        0.0000000e+00, 1.0000000e+00, 1.0000000e+00, 0.0000000e+00,\n",
              "        1.0000000e+00, 5.6000000e+02, 1.0000000e+00]])"
            ]
          },
          "metadata": {},
          "execution_count": 21
        }
      ]
    },
    {
      "cell_type": "code",
      "source": [],
      "metadata": {
        "id": "kCMiXmK89qf_"
      },
      "execution_count": null,
      "outputs": []
    }
  ]
}